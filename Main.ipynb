{
 "cells": [
  {
   "cell_type": "code",
   "execution_count": 1,
   "metadata": {},
   "outputs": [
    {
     "ename": "ModuleNotFoundError",
     "evalue": "No module named 'numpy'",
     "output_type": "error",
     "traceback": [
      "\u001b[0;31m---------------------------------------------------------------------------\u001b[0m",
      "\u001b[0;31mModuleNotFoundError\u001b[0m                       Traceback (most recent call last)",
      "\u001b[0;32m<ipython-input-1-76a12801bfa4>\u001b[0m in \u001b[0;36m<module>\u001b[0;34m\u001b[0m\n\u001b[0;32m----> 1\u001b[0;31m \u001b[0;32mimport\u001b[0m \u001b[0mnumpy\u001b[0m \u001b[0;32mas\u001b[0m \u001b[0mnp\u001b[0m\u001b[0;34m\u001b[0m\u001b[0;34m\u001b[0m\u001b[0m\n\u001b[0m\u001b[1;32m      2\u001b[0m \u001b[0;32mimport\u001b[0m \u001b[0mmatplotlib\u001b[0m\u001b[0;34m.\u001b[0m\u001b[0mpyplot\u001b[0m \u001b[0;32mas\u001b[0m \u001b[0mplt\u001b[0m\u001b[0;34m\u001b[0m\u001b[0;34m\u001b[0m\u001b[0m\n\u001b[1;32m      3\u001b[0m \u001b[0;32mfrom\u001b[0m \u001b[0mmatplotlib\u001b[0m \u001b[0;32mimport\u001b[0m \u001b[0mstyle\u001b[0m\u001b[0;34m\u001b[0m\u001b[0;34m\u001b[0m\u001b[0m\n\u001b[1;32m      4\u001b[0m \u001b[0;32mimport\u001b[0m \u001b[0mpandas\u001b[0m \u001b[0;32mas\u001b[0m \u001b[0mpd\u001b[0m\u001b[0;34m\u001b[0m\u001b[0;34m\u001b[0m\u001b[0m\n\u001b[1;32m      5\u001b[0m \u001b[0;34m\u001b[0m\u001b[0m\n",
      "\u001b[0;31mModuleNotFoundError\u001b[0m: No module named 'numpy'"
     ]
    }
   ],
   "source": [
    "import numpy as np\n",
    "import matplotlib.pyplot as plt\n",
    "from matplotlib import style\n",
    "import pandas as pd \n",
    "\n",
    "style.use('ggplot')"
   ]
  },
  {
   "cell_type": "code",
   "execution_count": 1,
   "metadata": {},
   "outputs": [],
   "source": [
    "class K_Means:\n",
    "\tdef __init__(self, k =3, tolerance = 0.0001, max_iterations = 500):\n",
    "\t\tself.k = k\n",
    "\t\tself.tolerance = tolerance\n",
    "\t\tself.max_iterations = max_iterations\n",
    "\n",
    "\tdef fit(self, data):\n",
    "\n",
    "\t\tself.centroids = {}\n",
    "\n",
    "\t\t#initialize the centroids, the first 'k' elements in the dataset will be our initial centroids\n",
    "\t\tfor i in range(self.k):\n",
    "\t\t\tself.centroids[i] = data[i]\n",
    "\n",
    "\t\t#begin iterations\n",
    "\t\tfor i in range(self.max_iterations):\n",
    "\t\t\tself.classes = {}\n",
    "\t\t\tfor i in range(self.k):\n",
    "\t\t\t\tself.classes[i] = []\n",
    "\n",
    "\t\t\t#find the distance between the point and cluster; choose the nearest centroid\n",
    "\t\t\tfor features in data:\n",
    "\t\t\t\tdistances = [np.linalg.norm(features - self.centroids[centroid]) for centroid in self.centroids]\n",
    "\t\t\t\tclassification = distances.index(min(distances))\n",
    "\t\t\t\tself.classes[classification].append(features)\n",
    "\n",
    "\t\t\tprevious = dict(self.centroids)\n",
    "\n",
    "\t\t\t#average the cluster datapoints to re-calculate the centroids\n",
    "\t\t\tfor classification in self.classes:\n",
    "\t\t\t\tself.centroids[classification] = np.average(self.classes[classification], axis = 0)\n",
    "\n",
    "\t\t\tisOptimal = True\n",
    "\n",
    "\t\t\tfor centroid in self.centroids:\n",
    "\n",
    "\t\t\t\toriginal_centroid = previous[centroid]\n",
    "\t\t\t\tcurr = self.centroids[centroid]\n",
    "\n",
    "\t\t\t\tif np.sum((curr - original_centroid)/original_centroid * 100.0) > self.tolerance:\n",
    "\t\t\t\t\tisOptimal = False\n",
    "\n",
    "\t\t\t#break out of the main loop if the results are optimal, ie. the centroids don't change their positions much(more than our tolerance)\n",
    "\t\t\tif isOptimal:\n",
    "\t\t\t\tbreak\n",
    "\n",
    "\tdef pred(self, data):\n",
    "\t\tdistances = [np.linalg.norm(data - self.centroids[centroid]) for centroid in self.centroids]\n",
    "\t\tclassification = distances.index(min(distances))\n",
    "\t\treturn classification"
   ]
  },
  {
   "cell_type": "code",
   "execution_count": 22,
   "metadata": {},
   "outputs": [
    {
     "data": {
      "image/png": "[encoded data removed]",
      "text/plain": [
       "<Figure size 432x288 with 1 Axes>"
      ]
     },
     "metadata": {},
     "output_type": "display_data"
    }
   ],
   "source": [
    "def main():\n",
    "\t\n",
    "\tdf = pd.read_csv(r\"data/iris2.csv\")\n",
    "\tdf = df[['sepal_length', 'sepal_width', 'petal_length', 'petal_width', 'class']]\n",
    "\tdataset = df.astype(float).values.tolist()\n",
    "\n",
    "\tX = df.values #returns a numpy array\n",
    "\t\n",
    "\tkm = K_Means(3)\n",
    "\tkm.fit(X)\n",
    "\n",
    "\t# Plotting starts here\n",
    "\tcolors = 10*[\"r\", \"g\", \"c\", \"b\", \"k\"]\n",
    "\n",
    "\tfor centroid in km.centroids:\n",
    "\t\tplt.scatter(km.centroids[centroid][0], km.centroids[centroid][1], s = 130, marker = \"x\")\n",
    "\n",
    "\tfor classification in km.classes:\n",
    "\t\tcolor = colors[classification]\n",
    "\t\tfor features in km.classes[classification]:\n",
    "\t\t\tplt.scatter(features[0], features[1], color = color,s = 30)\n",
    "\t\n",
    "\tplt.show()\n",
    "\n",
    "if __name__ == \"__main__\":\n",
    "\tmain()"
   ]
  },
  {
   "cell_type": "code",
   "execution_count": null,
   "metadata": {},
   "outputs": [],
   "source": []
  }
 ],
 "metadata": {
  "interpreter": {
   "hash": "7812ea015bdcee6f23a998adcdd2ef97c151c0c241b7b7070987d9313e41299d"
  },
  "kernelspec": {
   "display_name": "Python 3.9.5 64-bit ('3.9')",
   "name": "python3"
  },
  "language_info": {
   "codemirror_mode": {
    "name": "ipython",
    "version": 3
   },
   "file_extension": ".py",
   "mimetype": "text/x-python",
   "name": "python",
   "nbconvert_exporter": "python",
   "pygments_lexer": "ipython3",
   "version": "3.9.5"
  }
 },
 "nbformat": 4,
 "nbformat_minor": 5
}